{
  "nbformat": 4,
  "nbformat_minor": 0,
  "metadata": {
    "colab": {
      "provenance": [],
      "authorship_tag": "ABX9TyOa+ET0ImcI+2RXvO9l6Z/b",
      "include_colab_link": true
    },
    "kernelspec": {
      "name": "python3",
      "display_name": "Python 3"
    },
    "language_info": {
      "name": "python"
    },
    "accelerator": "GPU",
    "gpuClass": "standard"
  },
  "cells": [
    {
      "cell_type": "markdown",
      "metadata": {
        "id": "view-in-github",
        "colab_type": "text"
      },
      "source": [
        "<a href=\"https://colab.research.google.com/github/Sohail1173/BankNote_Authentication/blob/main/BankNote_Authentication.ipynb\" target=\"_parent\"><img src=\"https://colab.research.google.com/assets/colab-badge.svg\" alt=\"Open In Colab\"/></a>"
      ]
    },
    {
      "cell_type": "code",
      "source": [
        "import pandas as pd\n",
        "import numpy as np\n",
        "from sklearn.metrics import accuracy_score\n",
        "import sklearn\n",
        "from sklearn.preprocessing import LabelEncoder , OneHotEncoder\n",
        "from sklearn.model_selection import train_test_split \n",
        "from sklearn.preprocessing import StandardScaler  \n",
        "from sklearn.neural_network import MLPClassifier \n",
        "from sklearn.metrics import classification_report, confusion_matrix\n",
        "import matplotlib.pyplot as plt\n"
      ],
      "metadata": {
        "id": "US8laagQfaSI"
      },
      "execution_count": null,
      "outputs": []
    },
    {
      "cell_type": "code",
      "source": [
        "df=pd.read_csv(\"/content/BankNote_Authentication.csv\")"
      ],
      "metadata": {
        "id": "f9xPOrG5grFO"
      },
      "execution_count": null,
      "outputs": []
    },
    {
      "cell_type": "code",
      "source": [
        "df.head()"
      ],
      "metadata": {
        "colab": {
          "base_uri": "https://localhost:8080/",
          "height": 206
        },
        "id": "OPlANfPBj31k",
        "outputId": "73e9e3fe-f160-4204-e6ad-8382a1e82ce6"
      },
      "execution_count": null,
      "outputs": [
        {
          "output_type": "execute_result",
          "data": {
            "text/plain": [
              "   variance  skewness  curtosis  entropy  class\n",
              "0   3.62160    8.6661   -2.8073 -0.44699      0\n",
              "1   4.54590    8.1674   -2.4586 -1.46210      0\n",
              "2   3.86600   -2.6383    1.9242  0.10645      0\n",
              "3   3.45660    9.5228   -4.0112 -3.59440      0\n",
              "4   0.32924   -4.4552    4.5718 -0.98880      0"
            ],
            "text/html": [
              "\n",
              "  <div id=\"df-11249d29-33fe-425d-b3fe-69a5db96244e\">\n",
              "    <div class=\"colab-df-container\">\n",
              "      <div>\n",
              "<style scoped>\n",
              "    .dataframe tbody tr th:only-of-type {\n",
              "        vertical-align: middle;\n",
              "    }\n",
              "\n",
              "    .dataframe tbody tr th {\n",
              "        vertical-align: top;\n",
              "    }\n",
              "\n",
              "    .dataframe thead th {\n",
              "        text-align: right;\n",
              "    }\n",
              "</style>\n",
              "<table border=\"1\" class=\"dataframe\">\n",
              "  <thead>\n",
              "    <tr style=\"text-align: right;\">\n",
              "      <th></th>\n",
              "      <th>variance</th>\n",
              "      <th>skewness</th>\n",
              "      <th>curtosis</th>\n",
              "      <th>entropy</th>\n",
              "      <th>class</th>\n",
              "    </tr>\n",
              "  </thead>\n",
              "  <tbody>\n",
              "    <tr>\n",
              "      <th>0</th>\n",
              "      <td>3.62160</td>\n",
              "      <td>8.6661</td>\n",
              "      <td>-2.8073</td>\n",
              "      <td>-0.44699</td>\n",
              "      <td>0</td>\n",
              "    </tr>\n",
              "    <tr>\n",
              "      <th>1</th>\n",
              "      <td>4.54590</td>\n",
              "      <td>8.1674</td>\n",
              "      <td>-2.4586</td>\n",
              "      <td>-1.46210</td>\n",
              "      <td>0</td>\n",
              "    </tr>\n",
              "    <tr>\n",
              "      <th>2</th>\n",
              "      <td>3.86600</td>\n",
              "      <td>-2.6383</td>\n",
              "      <td>1.9242</td>\n",
              "      <td>0.10645</td>\n",
              "      <td>0</td>\n",
              "    </tr>\n",
              "    <tr>\n",
              "      <th>3</th>\n",
              "      <td>3.45660</td>\n",
              "      <td>9.5228</td>\n",
              "      <td>-4.0112</td>\n",
              "      <td>-3.59440</td>\n",
              "      <td>0</td>\n",
              "    </tr>\n",
              "    <tr>\n",
              "      <th>4</th>\n",
              "      <td>0.32924</td>\n",
              "      <td>-4.4552</td>\n",
              "      <td>4.5718</td>\n",
              "      <td>-0.98880</td>\n",
              "      <td>0</td>\n",
              "    </tr>\n",
              "  </tbody>\n",
              "</table>\n",
              "</div>\n",
              "      <button class=\"colab-df-convert\" onclick=\"convertToInteractive('df-11249d29-33fe-425d-b3fe-69a5db96244e')\"\n",
              "              title=\"Convert this dataframe to an interactive table.\"\n",
              "              style=\"display:none;\">\n",
              "        \n",
              "  <svg xmlns=\"http://www.w3.org/2000/svg\" height=\"24px\"viewBox=\"0 0 24 24\"\n",
              "       width=\"24px\">\n",
              "    <path d=\"M0 0h24v24H0V0z\" fill=\"none\"/>\n",
              "    <path d=\"M18.56 5.44l.94 2.06.94-2.06 2.06-.94-2.06-.94-.94-2.06-.94 2.06-2.06.94zm-11 1L8.5 8.5l.94-2.06 2.06-.94-2.06-.94L8.5 2.5l-.94 2.06-2.06.94zm10 10l.94 2.06.94-2.06 2.06-.94-2.06-.94-.94-2.06-.94 2.06-2.06.94z\"/><path d=\"M17.41 7.96l-1.37-1.37c-.4-.4-.92-.59-1.43-.59-.52 0-1.04.2-1.43.59L10.3 9.45l-7.72 7.72c-.78.78-.78 2.05 0 2.83L4 21.41c.39.39.9.59 1.41.59.51 0 1.02-.2 1.41-.59l7.78-7.78 2.81-2.81c.8-.78.8-2.07 0-2.86zM5.41 20L4 18.59l7.72-7.72 1.47 1.35L5.41 20z\"/>\n",
              "  </svg>\n",
              "      </button>\n",
              "      \n",
              "  <style>\n",
              "    .colab-df-container {\n",
              "      display:flex;\n",
              "      flex-wrap:wrap;\n",
              "      gap: 12px;\n",
              "    }\n",
              "\n",
              "    .colab-df-convert {\n",
              "      background-color: #E8F0FE;\n",
              "      border: none;\n",
              "      border-radius: 50%;\n",
              "      cursor: pointer;\n",
              "      display: none;\n",
              "      fill: #1967D2;\n",
              "      height: 32px;\n",
              "      padding: 0 0 0 0;\n",
              "      width: 32px;\n",
              "    }\n",
              "\n",
              "    .colab-df-convert:hover {\n",
              "      background-color: #E2EBFA;\n",
              "      box-shadow: 0px 1px 2px rgba(60, 64, 67, 0.3), 0px 1px 3px 1px rgba(60, 64, 67, 0.15);\n",
              "      fill: #174EA6;\n",
              "    }\n",
              "\n",
              "    [theme=dark] .colab-df-convert {\n",
              "      background-color: #3B4455;\n",
              "      fill: #D2E3FC;\n",
              "    }\n",
              "\n",
              "    [theme=dark] .colab-df-convert:hover {\n",
              "      background-color: #434B5C;\n",
              "      box-shadow: 0px 1px 3px 1px rgba(0, 0, 0, 0.15);\n",
              "      filter: drop-shadow(0px 1px 2px rgba(0, 0, 0, 0.3));\n",
              "      fill: #FFFFFF;\n",
              "    }\n",
              "  </style>\n",
              "\n",
              "      <script>\n",
              "        const buttonEl =\n",
              "          document.querySelector('#df-11249d29-33fe-425d-b3fe-69a5db96244e button.colab-df-convert');\n",
              "        buttonEl.style.display =\n",
              "          google.colab.kernel.accessAllowed ? 'block' : 'none';\n",
              "\n",
              "        async function convertToInteractive(key) {\n",
              "          const element = document.querySelector('#df-11249d29-33fe-425d-b3fe-69a5db96244e');\n",
              "          const dataTable =\n",
              "            await google.colab.kernel.invokeFunction('convertToInteractive',\n",
              "                                                     [key], {});\n",
              "          if (!dataTable) return;\n",
              "\n",
              "          const docLinkHtml = 'Like what you see? Visit the ' +\n",
              "            '<a target=\"_blank\" href=https://colab.research.google.com/notebooks/data_table.ipynb>data table notebook</a>'\n",
              "            + ' to learn more about interactive tables.';\n",
              "          element.innerHTML = '';\n",
              "          dataTable['output_type'] = 'display_data';\n",
              "          await google.colab.output.renderOutput(dataTable, element);\n",
              "          const docLink = document.createElement('div');\n",
              "          docLink.innerHTML = docLinkHtml;\n",
              "          element.appendChild(docLink);\n",
              "        }\n",
              "      </script>\n",
              "    </div>\n",
              "  </div>\n",
              "  "
            ]
          },
          "metadata": {},
          "execution_count": 29
        }
      ]
    },
    {
      "cell_type": "code",
      "source": [
        "df.describe(include='all')"
      ],
      "metadata": {
        "colab": {
          "base_uri": "https://localhost:8080/",
          "height": 300
        },
        "id": "VqjO9M-7iCUA",
        "outputId": "52dbb3c8-6e08-4699-fbff-63b260aa7793"
      },
      "execution_count": null,
      "outputs": [
        {
          "output_type": "execute_result",
          "data": {
            "text/plain": [
              "          variance     skewness     curtosis      entropy        class\n",
              "count  1372.000000  1372.000000  1372.000000  1372.000000  1372.000000\n",
              "mean      0.433735     1.922353     1.397627    -1.191657     0.444606\n",
              "std       2.842763     5.869047     4.310030     2.101013     0.497103\n",
              "min      -7.042100   -13.773100    -5.286100    -8.548200     0.000000\n",
              "25%      -1.773000    -1.708200    -1.574975    -2.413450     0.000000\n",
              "50%       0.496180     2.319650     0.616630    -0.586650     0.000000\n",
              "75%       2.821475     6.814625     3.179250     0.394810     1.000000\n",
              "max       6.824800    12.951600    17.927400     2.449500     1.000000"
            ],
            "text/html": [
              "\n",
              "  <div id=\"df-dfe6359e-9e74-48d7-9fce-eb2acd5a75a7\">\n",
              "    <div class=\"colab-df-container\">\n",
              "      <div>\n",
              "<style scoped>\n",
              "    .dataframe tbody tr th:only-of-type {\n",
              "        vertical-align: middle;\n",
              "    }\n",
              "\n",
              "    .dataframe tbody tr th {\n",
              "        vertical-align: top;\n",
              "    }\n",
              "\n",
              "    .dataframe thead th {\n",
              "        text-align: right;\n",
              "    }\n",
              "</style>\n",
              "<table border=\"1\" class=\"dataframe\">\n",
              "  <thead>\n",
              "    <tr style=\"text-align: right;\">\n",
              "      <th></th>\n",
              "      <th>variance</th>\n",
              "      <th>skewness</th>\n",
              "      <th>curtosis</th>\n",
              "      <th>entropy</th>\n",
              "      <th>class</th>\n",
              "    </tr>\n",
              "  </thead>\n",
              "  <tbody>\n",
              "    <tr>\n",
              "      <th>count</th>\n",
              "      <td>1372.000000</td>\n",
              "      <td>1372.000000</td>\n",
              "      <td>1372.000000</td>\n",
              "      <td>1372.000000</td>\n",
              "      <td>1372.000000</td>\n",
              "    </tr>\n",
              "    <tr>\n",
              "      <th>mean</th>\n",
              "      <td>0.433735</td>\n",
              "      <td>1.922353</td>\n",
              "      <td>1.397627</td>\n",
              "      <td>-1.191657</td>\n",
              "      <td>0.444606</td>\n",
              "    </tr>\n",
              "    <tr>\n",
              "      <th>std</th>\n",
              "      <td>2.842763</td>\n",
              "      <td>5.869047</td>\n",
              "      <td>4.310030</td>\n",
              "      <td>2.101013</td>\n",
              "      <td>0.497103</td>\n",
              "    </tr>\n",
              "    <tr>\n",
              "      <th>min</th>\n",
              "      <td>-7.042100</td>\n",
              "      <td>-13.773100</td>\n",
              "      <td>-5.286100</td>\n",
              "      <td>-8.548200</td>\n",
              "      <td>0.000000</td>\n",
              "    </tr>\n",
              "    <tr>\n",
              "      <th>25%</th>\n",
              "      <td>-1.773000</td>\n",
              "      <td>-1.708200</td>\n",
              "      <td>-1.574975</td>\n",
              "      <td>-2.413450</td>\n",
              "      <td>0.000000</td>\n",
              "    </tr>\n",
              "    <tr>\n",
              "      <th>50%</th>\n",
              "      <td>0.496180</td>\n",
              "      <td>2.319650</td>\n",
              "      <td>0.616630</td>\n",
              "      <td>-0.586650</td>\n",
              "      <td>0.000000</td>\n",
              "    </tr>\n",
              "    <tr>\n",
              "      <th>75%</th>\n",
              "      <td>2.821475</td>\n",
              "      <td>6.814625</td>\n",
              "      <td>3.179250</td>\n",
              "      <td>0.394810</td>\n",
              "      <td>1.000000</td>\n",
              "    </tr>\n",
              "    <tr>\n",
              "      <th>max</th>\n",
              "      <td>6.824800</td>\n",
              "      <td>12.951600</td>\n",
              "      <td>17.927400</td>\n",
              "      <td>2.449500</td>\n",
              "      <td>1.000000</td>\n",
              "    </tr>\n",
              "  </tbody>\n",
              "</table>\n",
              "</div>\n",
              "      <button class=\"colab-df-convert\" onclick=\"convertToInteractive('df-dfe6359e-9e74-48d7-9fce-eb2acd5a75a7')\"\n",
              "              title=\"Convert this dataframe to an interactive table.\"\n",
              "              style=\"display:none;\">\n",
              "        \n",
              "  <svg xmlns=\"http://www.w3.org/2000/svg\" height=\"24px\"viewBox=\"0 0 24 24\"\n",
              "       width=\"24px\">\n",
              "    <path d=\"M0 0h24v24H0V0z\" fill=\"none\"/>\n",
              "    <path d=\"M18.56 5.44l.94 2.06.94-2.06 2.06-.94-2.06-.94-.94-2.06-.94 2.06-2.06.94zm-11 1L8.5 8.5l.94-2.06 2.06-.94-2.06-.94L8.5 2.5l-.94 2.06-2.06.94zm10 10l.94 2.06.94-2.06 2.06-.94-2.06-.94-.94-2.06-.94 2.06-2.06.94z\"/><path d=\"M17.41 7.96l-1.37-1.37c-.4-.4-.92-.59-1.43-.59-.52 0-1.04.2-1.43.59L10.3 9.45l-7.72 7.72c-.78.78-.78 2.05 0 2.83L4 21.41c.39.39.9.59 1.41.59.51 0 1.02-.2 1.41-.59l7.78-7.78 2.81-2.81c.8-.78.8-2.07 0-2.86zM5.41 20L4 18.59l7.72-7.72 1.47 1.35L5.41 20z\"/>\n",
              "  </svg>\n",
              "      </button>\n",
              "      \n",
              "  <style>\n",
              "    .colab-df-container {\n",
              "      display:flex;\n",
              "      flex-wrap:wrap;\n",
              "      gap: 12px;\n",
              "    }\n",
              "\n",
              "    .colab-df-convert {\n",
              "      background-color: #E8F0FE;\n",
              "      border: none;\n",
              "      border-radius: 50%;\n",
              "      cursor: pointer;\n",
              "      display: none;\n",
              "      fill: #1967D2;\n",
              "      height: 32px;\n",
              "      padding: 0 0 0 0;\n",
              "      width: 32px;\n",
              "    }\n",
              "\n",
              "    .colab-df-convert:hover {\n",
              "      background-color: #E2EBFA;\n",
              "      box-shadow: 0px 1px 2px rgba(60, 64, 67, 0.3), 0px 1px 3px 1px rgba(60, 64, 67, 0.15);\n",
              "      fill: #174EA6;\n",
              "    }\n",
              "\n",
              "    [theme=dark] .colab-df-convert {\n",
              "      background-color: #3B4455;\n",
              "      fill: #D2E3FC;\n",
              "    }\n",
              "\n",
              "    [theme=dark] .colab-df-convert:hover {\n",
              "      background-color: #434B5C;\n",
              "      box-shadow: 0px 1px 3px 1px rgba(0, 0, 0, 0.15);\n",
              "      filter: drop-shadow(0px 1px 2px rgba(0, 0, 0, 0.3));\n",
              "      fill: #FFFFFF;\n",
              "    }\n",
              "  </style>\n",
              "\n",
              "      <script>\n",
              "        const buttonEl =\n",
              "          document.querySelector('#df-dfe6359e-9e74-48d7-9fce-eb2acd5a75a7 button.colab-df-convert');\n",
              "        buttonEl.style.display =\n",
              "          google.colab.kernel.accessAllowed ? 'block' : 'none';\n",
              "\n",
              "        async function convertToInteractive(key) {\n",
              "          const element = document.querySelector('#df-dfe6359e-9e74-48d7-9fce-eb2acd5a75a7');\n",
              "          const dataTable =\n",
              "            await google.colab.kernel.invokeFunction('convertToInteractive',\n",
              "                                                     [key], {});\n",
              "          if (!dataTable) return;\n",
              "\n",
              "          const docLinkHtml = 'Like what you see? Visit the ' +\n",
              "            '<a target=\"_blank\" href=https://colab.research.google.com/notebooks/data_table.ipynb>data table notebook</a>'\n",
              "            + ' to learn more about interactive tables.';\n",
              "          element.innerHTML = '';\n",
              "          dataTable['output_type'] = 'display_data';\n",
              "          await google.colab.output.renderOutput(dataTable, element);\n",
              "          const docLink = document.createElement('div');\n",
              "          docLink.innerHTML = docLinkHtml;\n",
              "          element.appendChild(docLink);\n",
              "        }\n",
              "      </script>\n",
              "    </div>\n",
              "  </div>\n",
              "  "
            ]
          },
          "metadata": {},
          "execution_count": 30
        }
      ]
    },
    {
      "cell_type": "code",
      "source": [
        "df.info()"
      ],
      "metadata": {
        "colab": {
          "base_uri": "https://localhost:8080/"
        },
        "id": "RN59MV9ZkDzQ",
        "outputId": "4cd70e3a-c17a-44b5-da82-d4035089007d"
      },
      "execution_count": null,
      "outputs": [
        {
          "output_type": "stream",
          "name": "stdout",
          "text": [
            "<class 'pandas.core.frame.DataFrame'>\n",
            "RangeIndex: 1372 entries, 0 to 1371\n",
            "Data columns (total 5 columns):\n",
            " #   Column    Non-Null Count  Dtype  \n",
            "---  ------    --------------  -----  \n",
            " 0   variance  1372 non-null   float64\n",
            " 1   skewness  1372 non-null   float64\n",
            " 2   curtosis  1372 non-null   float64\n",
            " 3   entropy   1372 non-null   float64\n",
            " 4   class     1372 non-null   int64  \n",
            "dtypes: float64(4), int64(1)\n",
            "memory usage: 53.7 KB\n"
          ]
        }
      ]
    },
    {
      "cell_type": "code",
      "source": [
        "df.isnull().sum()"
      ],
      "metadata": {
        "colab": {
          "base_uri": "https://localhost:8080/"
        },
        "id": "sdx0nKchmac3",
        "outputId": "334c3e2b-923e-4f44-da7d-f73c110d9a68"
      },
      "execution_count": null,
      "outputs": [
        {
          "output_type": "execute_result",
          "data": {
            "text/plain": [
              "variance    0\n",
              "skewness    0\n",
              "curtosis    0\n",
              "entropy     0\n",
              "class       0\n",
              "dtype: int64"
            ]
          },
          "metadata": {},
          "execution_count": 32
        }
      ]
    },
    {
      "cell_type": "code",
      "source": [
        "x, y = df.values[:, :-1], df.values[:, -1]\n",
        "\n",
        "x = x.astype('float32')\n",
        "le = LabelEncoder()\n",
        "y = le.fit_transform(y)"
      ],
      "metadata": {
        "id": "Mzx5PQMTmliF"
      },
      "execution_count": null,
      "outputs": []
    },
    {
      "cell_type": "code",
      "source": [
        "# Split dataset into training set and test set\n",
        "x_train, x_test, y_train, y_test = train_test_split(x, y, test_size=0.3, random_state=42)  # 70% training and 30% test"
      ],
      "metadata": {
        "id": "TW6AD6XOnQ7U"
      },
      "execution_count": null,
      "outputs": []
    },
    {
      "cell_type": "code",
      "source": [
        "#print the shape of the train and test data values\n",
        "print(x_train.shape)\n",
        "print(x_test.shape)\n",
        "print(y_train.shape)\n",
        "print(y_test.shape)"
      ],
      "metadata": {
        "colab": {
          "base_uri": "https://localhost:8080/"
        },
        "id": "oD4LQf8gpz9d",
        "outputId": "9ab2315b-2ac1-4b71-fbdd-60017484eb22"
      },
      "execution_count": null,
      "outputs": [
        {
          "output_type": "stream",
          "name": "stdout",
          "text": [
            "(960, 4)\n",
            "(412, 4)\n",
            "(960,)\n",
            "(412,)\n"
          ]
        }
      ]
    },
    {
      "cell_type": "code",
      "source": [
        "from tensorflow.keras.layers import Dense,Flatten,Dropout\n",
        "from tensorflow.keras import Sequential"
      ],
      "metadata": {
        "id": "Ab6PQw1fwMnk"
      },
      "execution_count": 119,
      "outputs": []
    },
    {
      "cell_type": "code",
      "source": [
        "model = Sequential()\n",
        "model.add(Dense(10, activation='relu', input_shape=(X.shape[1],)))\n",
        "model.add(Dropout(0.5))\n",
        "model.add(Dense(1,activation='sigmoid'))"
      ],
      "metadata": {
        "id": "SR8Vjha3wQ5h"
      },
      "execution_count": 120,
      "outputs": []
    },
    {
      "cell_type": "code",
      "source": [
        "\n",
        "model.compile(optimizer='adam',loss='binary_crossentropy',metrics=['accuracy'])\n",
        "     \n"
      ],
      "metadata": {
        "id": "o1r7MHHwwYu2"
      },
      "execution_count": 121,
      "outputs": []
    },
    {
      "cell_type": "code",
      "source": [
        "model.summary()"
      ],
      "metadata": {
        "colab": {
          "base_uri": "https://localhost:8080/"
        },
        "id": "j9jKpZY1wYqa",
        "outputId": "72467f6e-c15a-4afc-ac8a-1a40d46a8f92"
      },
      "execution_count": 122,
      "outputs": [
        {
          "output_type": "stream",
          "name": "stdout",
          "text": [
            "Model: \"sequential_8\"\n",
            "_________________________________________________________________\n",
            " Layer (type)                Output Shape              Param #   \n",
            "=================================================================\n",
            " dense_22 (Dense)            (None, 10)                50        \n",
            "                                                                 \n",
            " dropout_13 (Dropout)        (None, 10)                0         \n",
            "                                                                 \n",
            " dense_23 (Dense)            (None, 1)                 11        \n",
            "                                                                 \n",
            "=================================================================\n",
            "Total params: 61\n",
            "Trainable params: 61\n",
            "Non-trainable params: 0\n",
            "_________________________________________________________________\n"
          ]
        }
      ]
    },
    {
      "cell_type": "code",
      "source": [
        "history=model.fit(x_train,y_train,batch_size=10,epochs=50,validation_split=0.1)"
      ],
      "metadata": {
        "colab": {
          "base_uri": "https://localhost:8080/"
        },
        "id": "U8b-4dldwlAl",
        "outputId": "ccae1d5f-d21f-485c-adfa-9972647d3472"
      },
      "execution_count": 123,
      "outputs": [
        {
          "output_type": "stream",
          "name": "stdout",
          "text": [
            "Epoch 1/50\n",
            "87/87 [==============================] - 2s 7ms/step - loss: 0.9251 - accuracy: 0.6447 - val_loss: 0.6547 - val_accuracy: 0.7083\n",
            "Epoch 2/50\n",
            "87/87 [==============================] - 0s 6ms/step - loss: 0.7588 - accuracy: 0.6898 - val_loss: 0.5137 - val_accuracy: 0.7500\n",
            "Epoch 3/50\n",
            "87/87 [==============================] - 1s 6ms/step - loss: 0.6095 - accuracy: 0.7338 - val_loss: 0.4007 - val_accuracy: 0.7812\n",
            "Epoch 4/50\n",
            "87/87 [==============================] - 0s 5ms/step - loss: 0.5053 - accuracy: 0.7882 - val_loss: 0.3189 - val_accuracy: 0.8333\n",
            "Epoch 5/50\n",
            "87/87 [==============================] - 0s 5ms/step - loss: 0.4074 - accuracy: 0.8032 - val_loss: 0.2562 - val_accuracy: 0.8958\n",
            "Epoch 6/50\n",
            "87/87 [==============================] - 0s 3ms/step - loss: 0.3295 - accuracy: 0.8530 - val_loss: 0.2089 - val_accuracy: 0.9583\n",
            "Epoch 7/50\n",
            "87/87 [==============================] - 0s 4ms/step - loss: 0.2833 - accuracy: 0.8912 - val_loss: 0.1771 - val_accuracy: 0.9688\n",
            "Epoch 8/50\n",
            "87/87 [==============================] - 0s 4ms/step - loss: 0.2564 - accuracy: 0.9039 - val_loss: 0.1487 - val_accuracy: 0.9792\n",
            "Epoch 9/50\n",
            "87/87 [==============================] - 0s 3ms/step - loss: 0.2460 - accuracy: 0.9016 - val_loss: 0.1319 - val_accuracy: 0.9792\n",
            "Epoch 10/50\n",
            "87/87 [==============================] - 0s 4ms/step - loss: 0.2144 - accuracy: 0.9248 - val_loss: 0.1174 - val_accuracy: 0.9896\n",
            "Epoch 11/50\n",
            "87/87 [==============================] - 0s 4ms/step - loss: 0.1946 - accuracy: 0.9306 - val_loss: 0.1050 - val_accuracy: 1.0000\n",
            "Epoch 12/50\n",
            "87/87 [==============================] - 0s 4ms/step - loss: 0.1974 - accuracy: 0.9340 - val_loss: 0.0946 - val_accuracy: 1.0000\n",
            "Epoch 13/50\n",
            "87/87 [==============================] - 0s 4ms/step - loss: 0.1729 - accuracy: 0.9410 - val_loss: 0.0862 - val_accuracy: 1.0000\n",
            "Epoch 14/50\n",
            "87/87 [==============================] - 0s 4ms/step - loss: 0.1726 - accuracy: 0.9479 - val_loss: 0.0791 - val_accuracy: 1.0000\n",
            "Epoch 15/50\n",
            "87/87 [==============================] - 0s 4ms/step - loss: 0.1584 - accuracy: 0.9502 - val_loss: 0.0744 - val_accuracy: 1.0000\n",
            "Epoch 16/50\n",
            "87/87 [==============================] - 0s 5ms/step - loss: 0.1606 - accuracy: 0.9525 - val_loss: 0.0709 - val_accuracy: 1.0000\n",
            "Epoch 17/50\n",
            "87/87 [==============================] - 0s 5ms/step - loss: 0.1485 - accuracy: 0.9479 - val_loss: 0.0664 - val_accuracy: 1.0000\n",
            "Epoch 18/50\n",
            "87/87 [==============================] - 0s 5ms/step - loss: 0.1457 - accuracy: 0.9537 - val_loss: 0.0612 - val_accuracy: 1.0000\n",
            "Epoch 19/50\n",
            "87/87 [==============================] - 0s 5ms/step - loss: 0.1367 - accuracy: 0.9537 - val_loss: 0.0582 - val_accuracy: 1.0000\n",
            "Epoch 20/50\n",
            "87/87 [==============================] - 0s 4ms/step - loss: 0.1538 - accuracy: 0.9456 - val_loss: 0.0538 - val_accuracy: 1.0000\n",
            "Epoch 21/50\n",
            "87/87 [==============================] - 0s 4ms/step - loss: 0.1307 - accuracy: 0.9606 - val_loss: 0.0519 - val_accuracy: 1.0000\n",
            "Epoch 22/50\n",
            "87/87 [==============================] - 0s 4ms/step - loss: 0.1353 - accuracy: 0.9502 - val_loss: 0.0482 - val_accuracy: 1.0000\n",
            "Epoch 23/50\n",
            "87/87 [==============================] - 0s 4ms/step - loss: 0.1244 - accuracy: 0.9606 - val_loss: 0.0453 - val_accuracy: 1.0000\n",
            "Epoch 24/50\n",
            "87/87 [==============================] - 0s 4ms/step - loss: 0.1186 - accuracy: 0.9641 - val_loss: 0.0419 - val_accuracy: 1.0000\n",
            "Epoch 25/50\n",
            "87/87 [==============================] - 0s 4ms/step - loss: 0.1156 - accuracy: 0.9676 - val_loss: 0.0405 - val_accuracy: 1.0000\n",
            "Epoch 26/50\n",
            "87/87 [==============================] - 0s 4ms/step - loss: 0.1143 - accuracy: 0.9676 - val_loss: 0.0386 - val_accuracy: 1.0000\n",
            "Epoch 27/50\n",
            "87/87 [==============================] - 0s 4ms/step - loss: 0.1102 - accuracy: 0.9653 - val_loss: 0.0368 - val_accuracy: 1.0000\n",
            "Epoch 28/50\n",
            "87/87 [==============================] - 0s 4ms/step - loss: 0.1032 - accuracy: 0.9641 - val_loss: 0.0357 - val_accuracy: 1.0000\n",
            "Epoch 29/50\n",
            "87/87 [==============================] - 0s 4ms/step - loss: 0.1008 - accuracy: 0.9676 - val_loss: 0.0330 - val_accuracy: 1.0000\n",
            "Epoch 30/50\n",
            "87/87 [==============================] - 0s 4ms/step - loss: 0.1015 - accuracy: 0.9630 - val_loss: 0.0326 - val_accuracy: 1.0000\n",
            "Epoch 31/50\n",
            "87/87 [==============================] - 1s 6ms/step - loss: 0.0965 - accuracy: 0.9676 - val_loss: 0.0313 - val_accuracy: 1.0000\n",
            "Epoch 32/50\n",
            "87/87 [==============================] - 1s 6ms/step - loss: 0.0901 - accuracy: 0.9699 - val_loss: 0.0312 - val_accuracy: 1.0000\n",
            "Epoch 33/50\n",
            "87/87 [==============================] - 1s 9ms/step - loss: 0.0945 - accuracy: 0.9688 - val_loss: 0.0297 - val_accuracy: 1.0000\n",
            "Epoch 34/50\n",
            "87/87 [==============================] - 1s 9ms/step - loss: 0.0981 - accuracy: 0.9641 - val_loss: 0.0287 - val_accuracy: 1.0000\n",
            "Epoch 35/50\n",
            "87/87 [==============================] - 1s 9ms/step - loss: 0.0941 - accuracy: 0.9734 - val_loss: 0.0274 - val_accuracy: 1.0000\n",
            "Epoch 36/50\n",
            "87/87 [==============================] - 1s 10ms/step - loss: 0.0917 - accuracy: 0.9641 - val_loss: 0.0274 - val_accuracy: 1.0000\n",
            "Epoch 37/50\n",
            "87/87 [==============================] - 1s 10ms/step - loss: 0.0867 - accuracy: 0.9653 - val_loss: 0.0248 - val_accuracy: 1.0000\n",
            "Epoch 38/50\n",
            "87/87 [==============================] - 1s 9ms/step - loss: 0.0754 - accuracy: 0.9757 - val_loss: 0.0238 - val_accuracy: 1.0000\n",
            "Epoch 39/50\n",
            "87/87 [==============================] - 1s 7ms/step - loss: 0.0777 - accuracy: 0.9757 - val_loss: 0.0218 - val_accuracy: 1.0000\n",
            "Epoch 40/50\n",
            "87/87 [==============================] - 1s 8ms/step - loss: 0.0758 - accuracy: 0.9745 - val_loss: 0.0222 - val_accuracy: 1.0000\n",
            "Epoch 41/50\n",
            "87/87 [==============================] - 1s 7ms/step - loss: 0.0707 - accuracy: 0.9792 - val_loss: 0.0226 - val_accuracy: 1.0000\n",
            "Epoch 42/50\n",
            "87/87 [==============================] - 1s 9ms/step - loss: 0.0702 - accuracy: 0.9780 - val_loss: 0.0201 - val_accuracy: 1.0000\n",
            "Epoch 43/50\n",
            "87/87 [==============================] - 1s 9ms/step - loss: 0.0786 - accuracy: 0.9711 - val_loss: 0.0193 - val_accuracy: 1.0000\n",
            "Epoch 44/50\n",
            "87/87 [==============================] - 1s 7ms/step - loss: 0.0631 - accuracy: 0.9780 - val_loss: 0.0185 - val_accuracy: 1.0000\n",
            "Epoch 45/50\n",
            "87/87 [==============================] - 1s 7ms/step - loss: 0.0642 - accuracy: 0.9769 - val_loss: 0.0191 - val_accuracy: 1.0000\n",
            "Epoch 46/50\n",
            "87/87 [==============================] - 1s 8ms/step - loss: 0.0671 - accuracy: 0.9780 - val_loss: 0.0169 - val_accuracy: 1.0000\n",
            "Epoch 47/50\n",
            "87/87 [==============================] - 1s 7ms/step - loss: 0.0648 - accuracy: 0.9757 - val_loss: 0.0177 - val_accuracy: 1.0000\n",
            "Epoch 48/50\n",
            "87/87 [==============================] - 1s 7ms/step - loss: 0.0684 - accuracy: 0.9803 - val_loss: 0.0180 - val_accuracy: 1.0000\n",
            "Epoch 49/50\n",
            "87/87 [==============================] - 1s 7ms/step - loss: 0.0660 - accuracy: 0.9803 - val_loss: 0.0211 - val_accuracy: 1.0000\n",
            "Epoch 50/50\n",
            "87/87 [==============================] - 1s 7ms/step - loss: 0.0701 - accuracy: 0.9722 - val_loss: 0.0205 - val_accuracy: 1.0000\n"
          ]
        }
      ]
    },
    {
      "cell_type": "code",
      "source": [
        "\n",
        "plt.plot(history.history['accuracy'], label='Training accuracy')\n",
        "plt.plot(history.history['val_accuracy'], label='Validation accuracy')\n",
        "plt.title('Validation accuracy')\n",
        "plt.ylabel('accuracy')\n",
        "plt.xlabel('Epoch')\n",
        "plt.legend(loc=\"upper left\")\n",
        "plt.show()\n",
        "\n",
        "plt.plot(history.history['loss'], label='Training loss')\n",
        "plt.plot(history.history['val_loss'], label='Validation loss')\n",
        "plt.title('validation loss values')\n",
        "plt.ylabel('Loss value')\n",
        "plt.xlabel('Epoch')\n",
        "plt.legend(loc=\"upper left\")\n",
        "plt.show()"
      ],
      "metadata": {
        "colab": {
          "base_uri": "https://localhost:8080/",
          "height": 927
        },
        "id": "skiMTLwItfZO",
        "outputId": "a1cd3465-6d26-4c75-d9f5-6b4bf5b46df6"
      },
      "execution_count": 124,
      "outputs": [
        {
          "output_type": "display_data",
          "data": {
            "text/plain": [
              "<Figure size 640x480 with 1 Axes>"
            ],
            "image/png": "[encoded data removed]"
          },
          "metadata": {}
        },
        {
          "output_type": "display_data",
          "data": {
            "text/plain": [
              "<Figure size 640x480 with 1 Axes>"
            ],
            "image/png": "[encoded data removed]"
          },
          "metadata": {}
        }
      ]
    },
    {
      "cell_type": "code",
      "source": [
        "loss = model.evaluate(x_test, y_test)\n",
        "print(loss)"
      ],
      "metadata": {
        "colab": {
          "base_uri": "https://localhost:8080/"
        },
        "id": "U3Giwaf7zhdk",
        "outputId": "60a5f593-ee51-4560-af50-f30a4a603db8"
      },
      "execution_count": 128,
      "outputs": [
        {
          "output_type": "stream",
          "name": "stdout",
          "text": [
            "13/13 [==============================] - 0s 6ms/step - loss: 0.0200 - accuracy: 0.9903\n",
            "[0.02004372328519821, 0.9902912378311157]\n"
          ]
        }
      ]
    },
    {
      "cell_type": "code",
      "source": [
        "y_pred=model.predict(x_test)"
      ],
      "metadata": {
        "colab": {
          "base_uri": "https://localhost:8080/"
        },
        "id": "BYBRIcBs0sRT",
        "outputId": "dff26620-cfb0-4a42-a9dd-4c3aa0b140bb"
      },
      "execution_count": 129,
      "outputs": [
        {
          "output_type": "stream",
          "name": "stdout",
          "text": [
            "13/13 [==============================] - 0s 2ms/step\n"
          ]
        }
      ]
    },
    {
      "cell_type": "code",
      "source": [
        "classification_report(y_test,y_pred.round())"
      ],
      "metadata": {
        "colab": {
          "base_uri": "https://localhost:8080/",
          "height": 70
        },
        "id": "P9y0ygNH0w4i",
        "outputId": "355f11d0-fdd0-41c1-b9f2-fdbc95039ab2"
      },
      "execution_count": 132,
      "outputs": [
        {
          "output_type": "execute_result",
          "data": {
            "text/plain": [
              "'              precision    recall  f1-score   support\\n\\n           0       0.99      0.99      0.99       229\\n           1       0.99      0.99      0.99       183\\n\\n    accuracy                           0.99       412\\n   macro avg       0.99      0.99      0.99       412\\nweighted avg       0.99      0.99      0.99       412\\n'"
            ],
            "application/vnd.google.colaboratory.intrinsic+json": {
              "type": "string"
            }
          },
          "metadata": {},
          "execution_count": 132
        }
      ]
    },
    {
      "cell_type": "code",
      "source": [],
      "metadata": {
        "id": "vZ2hYCuaGMnl"
      },
      "execution_count": null,
      "outputs": []
    }
  ]
}